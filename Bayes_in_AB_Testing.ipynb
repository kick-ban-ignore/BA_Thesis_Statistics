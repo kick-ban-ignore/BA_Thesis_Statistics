{
 "cells": [
  {
   "cell_type": "markdown",
   "id": "e02e3538-0d63-4ae8-9844-c124973769b4",
   "metadata": {},
   "source": [
    "## Bayesian Inference Statistics in A/B Testing"
   ]
  },
  {
   "cell_type": "markdown",
   "id": "9196d761-7d29-421e-b25b-c6d20fc73cd7",
   "metadata": {
    "tags": []
   },
   "source": [
    "Text about Bayes & AB-Testing"
   ]
  },
  {
   "cell_type": "code",
   "execution_count": 161,
   "id": "2141055e",
   "metadata": {},
   "outputs": [],
   "source": [
    "import numpy as np\n",
    "import pandas as pd\n",
    "import matplotlib.pyplot as plt\n",
    "import seaborn as sns\n",
    "import pymc3 as pm"
   ]
  },
  {
   "cell_type": "markdown",
   "id": "2b6d4c4e-f8cb-49d0-bed2-f5a32e49839b",
   "metadata": {},
   "source": [
    "### The Prior belief\n",
    "The smart guys from the Dev department build a brand new website that has feature X instead of feature Y. Since building that feature cost a lot of money, the CEO wants us to check how much better the new version performs. \n",
    "We know nothing about the new website yet, but the head of marketing tells us that similar campaigns in the past yielded a click rate of about 15-16%.\n",
    "\n",
    "Here comes the math:\n",
    "Having a good guess about the prior distribution of about 15-16% for similar campaigns, we can use that limited knowledge to find a fitting beta distribution for said 15-16%. Let's start building our model.\n",
    "To get that percentage as an average, we assume a distribution of 10 clicks out of 60 users that get sent to the new website: 10/60 = 16.6% which is close enough to 15-16%.\n",
    "Looks like a beta of 10/50 fits the prior belief of 15%."
   ]
  },
  {
   "cell_type": "markdown",
   "id": "dd06c76b-562b-4f9d-9120-de5fefa818aa",
   "metadata": {},
   "source": [
    "Alpha is the number of successes, beta the number of fails. With Numpy we can generate 100.000 fitting prior draws from a Beta distribution with those alpha and beta parameters."
   ]
  },
  {
   "cell_type": "code",
   "execution_count": 162,
   "id": "f1341402",
   "metadata": {},
   "outputs": [],
   "source": [
    "alpha = 10\n",
    "beta = 50\n",
    "prior_draws = np.random.beta(alpha, beta, 100000)"
   ]
  },
  {
   "cell_type": "code",
   "execution_count": 168,
   "id": "0cf6c836-2efe-4682-bce1-46f9643ca39f",
   "metadata": {},
   "outputs": [
    {
     "data": {
      "image/png": "[encoded data removed]",
      "text/plain": [
       "<Figure size 432x288 with 1 Axes>"
      ]
     },
     "metadata": {},
     "output_type": "display_data"
    }
   ],
   "source": [
    "# Plot the prior\n",
    "plt.title(\"Prior assumption about Clickrate\")\n",
    "sns.kdeplot(prior_draws, shade=True, label=\"Priors\")\n",
    "plt.legend()\n",
    "plt.xlabel(\"Clickrate in %\")\n",
    "plt.xticks(np.arange(0, max(prior_draws), 0.05))\n",
    "plt.show()"
   ]
  },
  {
   "cell_type": "markdown",
   "id": "356feb7a-ce36-46c2-9642-a352f7cecc84",
   "metadata": {
    "tags": []
   },
   "source": [
    " After plotting these draws we can see that they pretty much match the 15-16% foreseen by the wise Head of marketing. The distribution spikes at about 15% and less likely but still possible click rates of 5 till 35% can be seen.\n",
    " \n",
    " ### The likelihood\n",
    " \n",
    " After running the A/B Test for some time, we collected data from 10.000 users. 50% were sent to the old website with feature X, 50% were sent to the new version showing feature Y.\n",
    " Time to load the actual data that we gathered from the test."
   ]
  },
  {
   "cell_type": "code",
   "execution_count": 213,
   "id": "f266178c-3225-4798-b710-e36abff445e5",
   "metadata": {},
   "outputs": [
    {
     "data": {
      "text/html": [
       "<div>\n",
       "<style scoped>\n",
       "    .dataframe tbody tr th:only-of-type {\n",
       "        vertical-align: middle;\n",
       "    }\n",
       "\n",
       "    .dataframe tbody tr th {\n",
       "        vertical-align: top;\n",
       "    }\n",
       "\n",
       "    .dataframe thead th {\n",
       "        text-align: right;\n",
       "    }\n",
       "</style>\n",
       "<table border=\"1\" class=\"dataframe\">\n",
       "  <thead>\n",
       "    <tr style=\"text-align: right;\">\n",
       "      <th></th>\n",
       "      <th>user_id</th>\n",
       "      <th>site_version</th>\n",
       "      <th>time</th>\n",
       "      <th>banner_clicked</th>\n",
       "    </tr>\n",
       "  </thead>\n",
       "  <tbody>\n",
       "    <tr>\n",
       "      <th>0</th>\n",
       "      <td>f500b9f27ac611426935de6f7a52b71f</td>\n",
       "      <td>X</td>\n",
       "      <td>28.01.2019 16:47</td>\n",
       "      <td>0</td>\n",
       "    </tr>\n",
       "    <tr>\n",
       "      <th>1</th>\n",
       "      <td>cb4347c030a063c63a555a354984562f</td>\n",
       "      <td>Y</td>\n",
       "      <td>31.03.2019 17:34</td>\n",
       "      <td>0</td>\n",
       "    </tr>\n",
       "    <tr>\n",
       "      <th>2</th>\n",
       "      <td>89cec38a654319548af585f4c1c76b51</td>\n",
       "      <td>X</td>\n",
       "      <td>06.02.2019 09:22</td>\n",
       "      <td>0</td>\n",
       "    </tr>\n",
       "    <tr>\n",
       "      <th>3</th>\n",
       "      <td>1d4ea406d45686bdbb49476576a1a985</td>\n",
       "      <td>X</td>\n",
       "      <td>23.05.2019 08:07</td>\n",
       "      <td>0</td>\n",
       "    </tr>\n",
       "    <tr>\n",
       "      <th>4</th>\n",
       "      <td>d14b9468a1f9a405fa801a64920367fe</td>\n",
       "      <td>X</td>\n",
       "      <td>28.01.2019 08:16</td>\n",
       "      <td>0</td>\n",
       "    </tr>\n",
       "    <tr>\n",
       "      <th>...</th>\n",
       "      <td>...</td>\n",
       "      <td>...</td>\n",
       "      <td>...</td>\n",
       "      <td>...</td>\n",
       "    </tr>\n",
       "    <tr>\n",
       "      <th>9995</th>\n",
       "      <td>7ca28ccde263a675d7ab7060e9ed0eca</td>\n",
       "      <td>Y</td>\n",
       "      <td>02.02.2019 08:19</td>\n",
       "      <td>0</td>\n",
       "    </tr>\n",
       "    <tr>\n",
       "      <th>9996</th>\n",
       "      <td>7e2ec2631332c6c4527a1b78c7ede789</td>\n",
       "      <td>X</td>\n",
       "      <td>04.04.2019 03:27</td>\n",
       "      <td>0</td>\n",
       "    </tr>\n",
       "    <tr>\n",
       "      <th>9997</th>\n",
       "      <td>3b828da744e5785f1e67b5df3fda5571</td>\n",
       "      <td>X</td>\n",
       "      <td>15.04.2019 15:59</td>\n",
       "      <td>0</td>\n",
       "    </tr>\n",
       "    <tr>\n",
       "      <th>9998</th>\n",
       "      <td>6cce0527245bcc8519d698af2224c04a</td>\n",
       "      <td>Y</td>\n",
       "      <td>21.05.2019 20:43</td>\n",
       "      <td>0</td>\n",
       "    </tr>\n",
       "    <tr>\n",
       "      <th>9999</th>\n",
       "      <td>8cf87a02f96327a1a8a93814f34d0d0c</td>\n",
       "      <td>Y</td>\n",
       "      <td>02.03.2019 21:27</td>\n",
       "      <td>0</td>\n",
       "    </tr>\n",
       "  </tbody>\n",
       "</table>\n",
       "<p>10000 rows × 4 columns</p>\n",
       "</div>"
      ],
      "text/plain": [
       "                               user_id site_version              time  \\\n",
       "0     f500b9f27ac611426935de6f7a52b71f            X  28.01.2019 16:47   \n",
       "1     cb4347c030a063c63a555a354984562f            Y  31.03.2019 17:34   \n",
       "2     89cec38a654319548af585f4c1c76b51            X  06.02.2019 09:22   \n",
       "3     1d4ea406d45686bdbb49476576a1a985            X  23.05.2019 08:07   \n",
       "4     d14b9468a1f9a405fa801a64920367fe            X  28.01.2019 08:16   \n",
       "...                                ...          ...               ...   \n",
       "9995  7ca28ccde263a675d7ab7060e9ed0eca            Y  02.02.2019 08:19   \n",
       "9996  7e2ec2631332c6c4527a1b78c7ede789            X  04.04.2019 03:27   \n",
       "9997  3b828da744e5785f1e67b5df3fda5571            X  15.04.2019 15:59   \n",
       "9998  6cce0527245bcc8519d698af2224c04a            Y  21.05.2019 20:43   \n",
       "9999  8cf87a02f96327a1a8a93814f34d0d0c            Y  02.03.2019 21:27   \n",
       "\n",
       "      banner_clicked  \n",
       "0                  0  \n",
       "1                  0  \n",
       "2                  0  \n",
       "3                  0  \n",
       "4                  0  \n",
       "...              ...  \n",
       "9995               0  \n",
       "9996               0  \n",
       "9997               0  \n",
       "9998               0  \n",
       "9999               0  \n",
       "\n",
       "[10000 rows x 4 columns]"
      ]
     },
     "execution_count": 213,
     "metadata": {},
     "output_type": "execute_result"
    }
   ],
   "source": [
    "ads = pd.read_csv(\"ads.csv\", sep=\";\")\n",
    "ads"
   ]
  },
  {
   "cell_type": "code",
   "execution_count": 219,
   "id": "5f072adf",
   "metadata": {},
   "outputs": [],
   "source": [
    "# Data Cleaning\n",
    "x_clicked = ads.loc[ads[\"site_version\"] == \"X\"][\"banner_clicked\"] # Extracts the banner_clicked column for each site_version\n",
    "y_clicked = ads.loc[ads[\"site_version\"] == \"Y\"][\"banner_clicked\"]"
   ]
  },
  {
   "cell_type": "markdown",
   "id": "9fef3a80-d151-4980-8540-e32fe093794d",
   "metadata": {
    "tags": []
   },
   "source": [
    "### The Posterior Distribution\n",
    "\n",
    "To get the posterior distribution, our final best guess about the probabilities in our experiment, we draw another 100.000 times from a beta distribution. But this time the distribution consists of our prior assumptions AND the actual numbers from data we collected during the A/B Test."
   ]
  },
  {
   "cell_type": "code",
   "execution_count": 220,
   "id": "790b0e88",
   "metadata": {},
   "outputs": [],
   "source": [
    "def simulate_beta_posterior(trials, beta_prior_a, beta_prior_b):\n",
    "    ###\n",
    "    ### Generates posterior distribution from likelihood and priors (actual data and prior assumption)\n",
    "    ###\n",
    "    num_successes = np.sum(trials)   \n",
    "    posterior_draws = np.random.beta(num_successes + beta_prior_a,len(trials) - num_successes + beta_prior_b, 100000)\n",
    "    \n",
    "    return posterior_draws"
   ]
  },
  {
   "cell_type": "code",
   "execution_count": 221,
   "id": "ef51b605",
   "metadata": {},
   "outputs": [],
   "source": [
    "# Simulate posterior draws\n",
    "x_posterior = simulate_beta_posterior(x_clicked, alpha, beta)\n",
    "y_posterior = simulate_beta_posterior(y_clicked, alpha, beta)"
   ]
  },
  {
   "cell_type": "code",
   "execution_count": 223,
   "id": "f3bf9d82",
   "metadata": {},
   "outputs": [
    {
     "data": {
      "image/png": "[encoded data removed]",
      "text/plain": [
       "<Figure size 432x288 with 1 Axes>"
      ]
     },
     "metadata": {},
     "output_type": "display_data"
    }
   ],
   "source": [
    "sns.kdeplot(x_posterior, shade=True, label=\"Feature X\")\n",
    "sns.kdeplot(y_posterior, shade=True, label=\"Feature Y\")\n",
    "plt.legend()\n",
    "plt.show()"
   ]
  },
  {
   "cell_type": "markdown",
   "id": "ed918682-d0a4-4959-aeed-2bc3a0498552",
   "metadata": {},
   "source": [
    "It looks like Feature X with a click rate of about 16-17% performs better than Feature Y with 14-15%. That's good to see that there is an increase in click rates after we put the new feature Y online. \n",
    "\n",
    "### But how much better is it really? \n",
    "\n",
    "At first, We just look at the difference between both performances."
   ]
  },
  {
   "cell_type": "code",
   "execution_count": 230,
   "id": "7d22c258",
   "metadata": {},
   "outputs": [
    {
     "data": {
      "image/png": "[encoded data removed]",
      "text/plain": [
       "<Figure size 432x288 with 1 Axes>"
      ]
     },
     "metadata": {},
     "output_type": "display_data"
    }
   ],
   "source": [
    "diff = mobile_posterior - desktop_posterior # Calculates posterior difference and plots it\n",
    "sns.kdeplot(diff, shade=True, label=\"difference in %\")\n",
    "plt.legend()\n",
    "plt.show()"
   ]
  },
  {
   "cell_type": "markdown",
   "id": "5760b2c2-af5f-4a18-8bc8-36674bc5a5a1",
   "metadata": {},
   "source": [
    "Looks like on average feature X is almost 2% better performing.\n",
    "\n",
    "We cannot be 100% sure about feature X also being better in the future or in similar campaigns. But, with regards to the data that we have right now, how sure can we be? Being 95% sure is enough for most business cases, that's why a 95% credible interval is industry standard and we intend to follow the masses. The credible interval shows the region where the highest posteriors have the highest density. That's the spot where the good stuff is. "
   ]
  },
  {
   "cell_type": "code",
   "execution_count": 270,
   "id": "e7b532a6",
   "metadata": {},
   "outputs": [
    {
     "name": "stdout",
     "output_type": "stream",
     "text": [
      "[0.00421331 0.03242865]\n"
     ]
    }
   ],
   "source": [
    "interval = pm.hpd(diff, hdi_prob=0.95) # Calculates and prints xx% credible interval with the highest posterior density of posterior difference\n",
    "print(interval)"
   ]
  },
  {
   "cell_type": "markdown",
   "id": "62928a44-d91b-40f5-b670-3fe921804d71",
   "metadata": {},
   "source": [
    "The credible interval tells us that feature X is with a 95% probability between 0.4% and 3.2% better.\n",
    "\n",
    "Let's try to play it safe: how likely is it that the new feature X performs better, even by the slightest bit?"
   ]
  },
  {
   "cell_type": "code",
   "execution_count": 254,
   "id": "af08f9a1",
   "metadata": {},
   "outputs": [
    {
     "name": "stdout",
     "output_type": "stream",
     "text": [
      "0.9951\n"
     ]
    }
   ],
   "source": [
    "x_better_prob = (diff > 0).mean() # Calculates the average of better performing draws\n",
    "print(x_better_prob)"
   ]
  },
  {
   "cell_type": "markdown",
   "id": "7f2c054c-4b6d-4893-b310-f92aa3c6896c",
   "metadata": {},
   "source": [
    "So feature X is very likely better with a certainty of 99.51%. \n",
    "\n",
    "But what about the 0.49%? Out of 200 campaigns one would fail. Will it result in a total disaster? Let's try some risk management and look at the expected loss, just in case feature X is not performing better."
   ]
  },
  {
   "cell_type": "code",
   "execution_count": 255,
   "id": "1ac87155",
   "metadata": {},
   "outputs": [
    {
     "name": "stdout",
     "output_type": "stream",
     "text": [
      "-0.0026597132232852763\n"
     ]
    }
   ],
   "source": [
    "loss = diff[diff < 0] # Slice diff to take only cases where it is negative\n",
    "expected_loss = loss.mean() # Compute and print the average expected loss\n",
    "print(expected_loss)"
   ]
  },
  {
   "cell_type": "markdown",
   "id": "85232d40-6c91-4a56-b29d-537e6a5f3b6c",
   "metadata": {},
   "source": [
    "With 0.49% probability we get worse results with the new campaign. But in those cases the loss is on average only 0.26%. That doesn't look too bad.\n",
    "Let's see how the loss is distributed."
   ]
  },
  {
   "cell_type": "code",
   "execution_count": 258,
   "id": "829347d0",
   "metadata": {},
   "outputs": [
    {
     "name": "stdout",
     "output_type": "stream",
     "text": [
      "[-0.00696912 -0.00037735]\n"
     ]
    }
   ],
   "source": [
    "interval_loss = pm.hpd(loss, hdi_prob=0.95) # Calculate and print xx% credible interval of highest posterior density\n",
    "print(interval_loss)"
   ]
  },
  {
   "cell_type": "markdown",
   "id": "bdf58bce-246a-4289-9d35-1f5ceefe7431",
   "metadata": {},
   "source": [
    "In those 0.49% cases where feature X is performing worse than feature Y we will see - with a probability of 95% - an expected loss between 0.03 and 0.69%. Considering it is much less likely to see the campaign fail, the expected loss is much less than what we can gain in case the campaign performs well."
   ]
  }
 ],
 "metadata": {
  "kernelspec": {
   "display_name": "Python 3",
   "language": "python",
   "name": "python3"
  },
  "language_info": {
   "codemirror_mode": {
    "name": "ipython",
    "version": 3
   },
   "file_extension": ".py",
   "mimetype": "text/x-python",
   "name": "python",
   "nbconvert_exporter": "python",
   "pygments_lexer": "ipython3",
   "version": "3.8.10"
  }
 },
 "nbformat": 4,
 "nbformat_minor": 5
}
