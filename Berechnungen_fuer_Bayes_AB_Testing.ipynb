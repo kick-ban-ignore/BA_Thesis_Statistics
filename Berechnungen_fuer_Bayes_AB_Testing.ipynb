{
 "cells": [
  {
   "cell_type": "markdown",
   "id": "e02e3538-0d63-4ae8-9844-c124973769b4",
   "metadata": {},
   "source": [
    "# Berechnungen für Bayesianische Statistik im A/B Testing"
   ]
  },
  {
   "cell_type": "markdown",
   "id": "808f2d75-b095-4cca-957b-d12db02275b4",
   "metadata": {},
   "source": [
    "---"
   ]
  },
  {
   "cell_type": "markdown",
   "id": "88c08441-1d66-4ff1-b9bf-73e4230a76bf",
   "metadata": {},
   "source": [
    "Daten:\n",
    "10000 Beobachtungen\n",
    "\n",
    "4990 in Gruppe X mit \n",
    "720 x Erfolg und \n",
    "4270 x Nicht-Erfolg\n",
    "\n",
    "5010 in Gruppe Y mit\n",
    "817 x Erfolg und \n",
    "4193 x Nicht-Erfolg\n",
    "\n",
    "Annahmen aus vergangenen Marketingkampagnen: zwischen 14 und 15% Konversationsrate\n",
    "    "
   ]
  },
  {
   "cell_type": "code",
   "execution_count": null,
   "id": "2141055e",
   "metadata": {},
   "outputs": [],
   "source": [
    "# Imports packages\n",
    "import numpy as np # for calculations\n",
    "import pandas as pd # for printing dataframes\n",
    "import matplotlib.pyplot as plt # for plotting\n",
    "from matplotlib import rcParams\n",
    "import seaborn as sns # for scientific plotting\n",
    "import pymc3 as pm # for calculations with Bayes"
   ]
  },
  {
   "cell_type": "code",
   "execution_count": null,
   "id": "f1341402",
   "metadata": {},
   "outputs": [],
   "source": [
    "# Bestimmung passender Parameter für Alpha und Beta passend zhur Prioriverteilung\n",
    "alpha = 10 # Anzahl der Erfolge\n",
    "beta = 59 # Anzahl der Nicht-Erfolge\n",
    "print(alpha/(alpha + beta))\n",
    "\n",
    "prior_draws = np.random.beta(alpha, beta, 10000) # Dies erzeugt 10.000 zufällige Ziehungen innerhalb einer Beta-Verteilung mit den oben genannten Alpha- und Beta-Parametern, die als Prior-Verteilung verwendet wird"
   ]
  },
  {
   "cell_type": "code",
   "execution_count": null,
   "id": "0cf6c836-2efe-4682-bce1-46f9643ca39f",
   "metadata": {},
   "outputs": [],
   "source": [
    "# Priori-Verteilung plotten\n",
    "plt.title(\"Priori-Annahmen der Konvertierungsrate\")\n",
    "sns.kdeplot(prior_draws, shade=True, label=\"Prioriverteilung\")\n",
    "rcParams['figure.figsize'] = 11.7,8.27 # Größe in Inches\n",
    "plt.legend()\n",
    "plt.xlabel(\"Konvertierungsrate in %\")\n",
    "plt.xticks(np.arange(0, max(prior_draws), 0.05))\n",
    "plt.show()"
   ]
  },
  {
   "cell_type": "code",
   "execution_count": null,
   "id": "f266178c-3225-4798-b710-e36abff445e5",
   "metadata": {},
   "outputs": [],
   "source": [
    "ads = pd.read_csv(\"daten_onlineshop_abtest_2021.csv\", sep=\";\")\n",
    "ads.head(5)"
   ]
  },
  {
   "cell_type": "code",
   "execution_count": null,
   "id": "2662807a-9175-46e7-bd92-f3b2ddf1b939",
   "metadata": {},
   "outputs": [],
   "source": [
    "# Data Cleaning\n",
    "x_clicked = ads.loc[ads[\"site_version\"] == \"X\"][\"banner_clicked\"] # Extrahiert die Spalte banner_clicked für jede Variante in Spalte site_version\n",
    "y_clicked = ads.loc[ads[\"site_version\"] == \"Y\"][\"banner_clicked\"]"
   ]
  },
  {
   "cell_type": "code",
   "execution_count": null,
   "id": "790b0e88",
   "metadata": {},
   "outputs": [],
   "source": [
    "def simulate_beta_posterior(trials, beta_prior_a, beta_prior_b):\n",
    "    ###\n",
    "    ### Erzeugt eine Posterioriverteilung aus den Daten und der Prioriannahmen\n",
    "    ###\n",
    "    num_successes = np.sum(trials)   \n",
    "    posterior_draws = np.random.beta(num_successes + beta_prior_a,len(trials) - num_successes + beta_prior_b, 100000)\n",
    "    \n",
    "    return posterior_draws"
   ]
  },
  {
   "cell_type": "code",
   "execution_count": null,
   "id": "ef51b605",
   "metadata": {},
   "outputs": [],
   "source": [
    "# Simuliert Posterioriverteilungen\n",
    "x_posterior = simulate_beta_posterior(x_clicked, alpha, beta)\n",
    "y_posterior = simulate_beta_posterior(y_clicked, alpha, beta)"
   ]
  },
  {
   "cell_type": "code",
   "execution_count": null,
   "id": "88ff3856-03a7-426c-80ac-1fde10ca0068",
   "metadata": {},
   "outputs": [],
   "source": [
    "# Die berechneten Intervallgrenzen der Posterioriverteilungen\n",
    "pi_x1 = 0.134688\n",
    "pi_x2 = 0.153892\n",
    "pi_y1 = 0.152635\n",
    "pi_y2 = 0.173004"
   ]
  },
  {
   "cell_type": "code",
   "execution_count": null,
   "id": "f3bf9d82",
   "metadata": {},
   "outputs": [],
   "source": [
    "# Plottet die Posterioriverteilungen mit Kredibilitätsintervallen\n",
    "sns.kdeplot(x_posterior, shade=True, label=\"Gruppe X\")\n",
    "sns.kdeplot(y_posterior, shade=True, label=\"Gruppe Y\")\n",
    "plt.title(\"Posterioriverteilung der Konvertierungsrate mit 95%-Kredibilitätsintervall\")\n",
    "plt.xlabel(\"Konvertierungsrate in %\")\n",
    "plt.vlines(pi_x1, 0, 80, linestyle='--', color='steelblue')\n",
    "plt.vlines(pi_x2, 0, 80, linestyle='--', color='steelblue')\n",
    "plt.vlines(pi_y1, 0, 80, linestyle='--', color='peru')\n",
    "plt.vlines(pi_y2, 0, 80, linestyle='--', color='peru')\n",
    "plt.legend()\n",
    "plt.show()"
   ]
  },
  {
   "cell_type": "code",
   "execution_count": null,
   "id": "8597dc44-d308-41ea-ae49-a570851b5ea1",
   "metadata": {},
   "outputs": [],
   "source": [
    "# Die berechneten Intervallgrenzen der Diferenz der Posterioriverteilungen\n",
    "d1 = 0.00779\n",
    "d2 = 0.02927"
   ]
  },
  {
   "cell_type": "code",
   "execution_count": null,
   "id": "7d22c258",
   "metadata": {},
   "outputs": [],
   "source": [
    "# Berechnet die Posteriori-Differenzen und plottet sie\n",
    "diff = y_posterior - x_posterior \n",
    "sns.kdeplot(diff, shade=True, label=\"Differenz in %\")\n",
    "plt.title(\"Verteilung der bayes. Differenz Gruppe Y - Gruppe X mit 95%-Kredibilitätsintervall\")\n",
    "plt.xlabel(\"Differenz in %\")\n",
    "\n",
    "plt.vlines(d1, 0, 55, linestyle='--', color='steelblue')\n",
    "plt.vlines(d2, 0, 55, linestyle='--', color='steelblue')\n",
    "\n",
    "plt.legend()\n",
    "plt.show()"
   ]
  },
  {
   "cell_type": "code",
   "execution_count": null,
   "id": "121bf1a3-30e7-44cc-9ac2-420f20d104b8",
   "metadata": {},
   "outputs": [],
   "source": [
    "# Plottet die frequentistische Verteilung mit Konfidenzintervallen\n",
    "sns.kdeplot(np.random.normal(loc=0.144297292,scale=0.004898979,size=1000), shade=True,label=\"Gruppe X\")\n",
    "sns.kdeplot(np.random.normal(loc=0.162827328,scale=0.005196152,size=1000), shade=True,label=\"Gruppe Y\")\n",
    "plt.title(\"Frequentistische Verteilung der Konvertierungsrate mit 95%-Konfidenzintervall\")\n",
    "plt.xlabel(\"Konvertierungsrate in %\")\n",
    "plt.vlines(pi_x1, 0, 80, linestyle='--', color='steelblue')\n",
    "plt.vlines(pi_x2, 0, 80, linestyle='--', color='steelblue')\n",
    "plt.vlines(pi_y1, 0, 80, linestyle='--', color='peru')\n",
    "plt.vlines(pi_y2, 0, 80, linestyle='--', color='peru')\n",
    "plt.legend()\n",
    "plt.show()"
   ]
  },
  {
   "cell_type": "code",
   "execution_count": null,
   "id": "a7352553-d154-4b01-96ca-cf1dba78b57e",
   "metadata": {},
   "outputs": [],
   "source": [
    "d1 = 0.00464851\n",
    "d2 = 0.03291149"
   ]
  },
  {
   "cell_type": "code",
   "execution_count": null,
   "id": "c7bd5cbe-702e-4008-9b00-979290524ce7",
   "metadata": {},
   "outputs": [],
   "source": [
    "#Plottet die Differenz der frequentistischen Verteilungen mit Konfidenzintervallen\n",
    "sns.kdeplot(np.random.normal(loc=0.01853,scale=0.00173205,size=1000), shade=True,label=\"Differenz in %\")\n",
    "plt.title(\"Frequentistische Verteilung der Differenz zwischen Gruppe Y und Gruppe X mit 95%-Konfidenzintervall\")\n",
    "plt.xlabel(\"Differenz in %\")\n",
    "plt.vlines(d1, 0, 80, linestyle='--', color='steelblue')\n",
    "plt.vlines(d2, 0, 80, linestyle='--', color='steelblue')\n",
    "plt.legend()\n",
    "plt.show()"
   ]
  }
 ],
 "metadata": {
  "kernelspec": {
   "display_name": "Python 3",
   "language": "python",
   "name": "python3"
  },
  "language_info": {
   "codemirror_mode": {
    "name": "ipython",
    "version": 3
   },
   "file_extension": ".py",
   "mimetype": "text/x-python",
   "name": "python",
   "nbconvert_exporter": "python",
   "pygments_lexer": "ipython3",
   "version": "3.8.10"
  }
 },
 "nbformat": 4,
 "nbformat_minor": 5
}
