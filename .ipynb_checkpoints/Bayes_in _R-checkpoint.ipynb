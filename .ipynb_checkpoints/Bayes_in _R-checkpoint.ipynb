{
 "cells": [
  {
   "cell_type": "code",
   "execution_count": 1,
   "metadata": {},
   "outputs": [
    {
     "data": {
      "text/html": [
       "1e-12"
      ],
      "text/latex": [
       "1e-12"
      ],
      "text/markdown": [
       "1e-12"
      ],
      "text/plain": [
       "[1] 1e-12"
      ]
     },
     "metadata": {},
     "output_type": "display_data"
    }
   ],
   "source": [
    "pbinom(11,12,2/20,lower.tail=FALSE)"
   ]
  },
  {
   "cell_type": "code",
   "execution_count": 2,
   "metadata": {},
   "outputs": [
    {
     "data": {
      "text/html": [
       "5"
      ],
      "text/latex": [
       "5"
      ],
      "text/markdown": [
       "5"
      ],
      "text/plain": [
       "[1] 5"
      ]
     },
     "metadata": {},
     "output_type": "display_data"
    }
   ],
   "source": [
    "choose(5, 1)"
   ]
  },
  {
   "cell_type": "markdown",
   "metadata": {},
   "source": [
    "Ü.4. cum. Binomialverteilung\n",
    "- mehr als 1 Jobangebot aus 7 Interiews mit 20% Chance auf Angebot je Interview"
   ]
  },
  {
   "cell_type": "code",
   "execution_count": 4,
   "metadata": {},
   "outputs": [
    {
     "data": {
      "text/html": [
       "0.4232832"
      ],
      "text/latex": [
       "0.4232832"
      ],
      "text/markdown": [
       "0.4232832"
      ],
      "text/plain": [
       "[1] 0.4232832"
      ]
     },
     "metadata": {},
     "output_type": "display_data"
    }
   ],
   "source": [
    "pbinom(1,7,0.2, lower.tail=FALSE)"
   ]
  },
  {
   "cell_type": "markdown",
   "metadata": {},
   "source": [
    "- genau 1 Jobangebot aus 7 Interviews mit 20% Chance auf Angebot je Interview"
   ]
  },
  {
   "cell_type": "code",
   "execution_count": 2,
   "metadata": {},
   "outputs": [
    {
     "data": {
      "text/html": [
       "0.3670016"
      ],
      "text/latex": [
       "0.3670016"
      ],
      "text/markdown": [
       "0.3670016"
      ],
      "text/plain": [
       "[1] 0.3670016"
      ]
     },
     "metadata": {},
     "output_type": "display_data"
    }
   ],
   "source": [
    "dbinom(1,7,0.2)"
   ]
  },
  {
   "cell_type": "markdown",
   "metadata": {},
   "source": [
    "Ü.5. cum. Binomialverteilung"
   ]
  },
  {
   "cell_type": "code",
   "execution_count": 7,
   "metadata": {},
   "outputs": [],
   "source": [
    "Mind_2_Angebot_aus_7 <- pbinom(1,7,0.2, lower.tail=FALSE)\n",
    "Mind_2_Angebot_aus_25 <- pbinom(1,25,0.1, lower.tail=FALSE)"
   ]
  },
  {
   "cell_type": "code",
   "execution_count": 8,
   "metadata": {},
   "outputs": [
    {
     "data": {
      "text/html": [
       "0.4232832"
      ],
      "text/latex": [
       "0.4232832"
      ],
      "text/markdown": [
       "0.4232832"
      ],
      "text/plain": [
       "[1] 0.4232832"
      ]
     },
     "metadata": {},
     "output_type": "display_data"
    },
    {
     "data": {
      "text/html": [
       "0.728794093538633"
      ],
      "text/latex": [
       "0.728794093538633"
      ],
      "text/markdown": [
       "0.728794093538633"
      ],
      "text/plain": [
       "[1] 0.7287941"
      ]
     },
     "metadata": {},
     "output_type": "display_data"
    }
   ],
   "source": [
    "Mind_2_Angebot_aus_7\n",
    "Mind_2_Angebot_aus_25"
   ]
  },
  {
   "cell_type": "markdown",
   "metadata": {},
   "source": [
    "Kapitel 6. Betaverteilung"
   ]
  },
  {
   "cell_type": "code",
   "execution_count": 34,
   "metadata": {},
   "outputs": [
    {
     "data": {
      "text/plain": [
       "0.2850559 with absolute error < 1e-04"
      ]
     },
     "metadata": {},
     "output_type": "display_data"
    }
   ],
   "source": [
    "# Betaverteilung\n",
    "# 5 gewünschte Karten aus 1200 Karten mit 1195 ungewünschten Karten\n",
    "# Wahrscheinlichkeit von 29%, dass diese W.-Verteilung zwischen 0.5% und 100% die normale Verteilungrate über alle Karten hinweg ist\n",
    "integrate(function(p) dbeta(p, 5, 1195), 0.005, 1)"
   ]
  },
  {
   "cell_type": "markdown",
   "metadata": {},
   "source": [
    "Ü.6"
   ]
  },
  {
   "cell_type": "code",
   "execution_count": 43,
   "metadata": {},
   "outputs": [
    {
     "data": {
      "text/plain": [
       "0.09935258 with absolute error < 1.1e-15"
      ]
     },
     "metadata": {},
     "output_type": "display_data"
    }
   ],
   "source": [
    "# 1.\n",
    "\n",
    "alpha <- 4\n",
    "beta <- 6\n",
    "minimum <- 0.6\n",
    "\n",
    "integrate(function (p) dbeta(p, alpha, beta), minimum, 1) \n",
    "#W., dass bei dieser Betaverteilung (4x Kopf aus 10 Würfen) Kopf mit mind. 60%iger W. fällt, liegt bei rund 10%"
   ]
  },
  {
   "cell_type": "code",
   "execution_count": 50,
   "metadata": {},
   "outputs": [
    {
     "data": {
      "text/plain": [
       "0.30988 with absolute error < 3.4e-15"
      ]
     },
     "metadata": {},
     "output_type": "display_data"
    }
   ],
   "source": [
    "# 2.\n",
    "\n",
    "alpha <- 9\n",
    "beta <- 11\n",
    "minimum <- 0.45\n",
    "maximum <- 0.55\n",
    "\n",
    "integrate(function (p) dbeta(p, alpha, beta), minimum, maximum)\n",
    "#W., dass bei dieser Betaverteilung (9x Kopf aus 20 Würfen) Kopf mit 45-55%iger W. (also fair) fällt, liegt bei rund 31%"
   ]
  },
  {
   "cell_type": "code",
   "execution_count": 52,
   "metadata": {},
   "outputs": [
    {
     "data": {
      "text/plain": [
       "0.8589371 with absolute error < 9.5e-15"
      ]
     },
     "metadata": {},
     "output_type": "display_data"
    }
   ],
   "source": [
    "# 3.\n",
    "\n",
    "alpha <- 109\n",
    "beta <- 111\n",
    "minimum <- 0.45\n",
    "maximum <- 0.55\n",
    "\n",
    "integrate(function (p) dbeta(p, alpha, beta), minimum, maximum)\n",
    "#W., dass bei dieser Betaverteilung (109x Kopf aus 200 Würfen) Kopf mit 45-55%iger W. (also fair) fällt, liegt bei rund 86%"
   ]
  },
  {
   "cell_type": "markdown",
   "metadata": {},
   "source": [
    "Ü.9"
   ]
  },
  {
   "cell_type": "code",
   "execution_count": 55,
   "metadata": {},
   "outputs": [
    {
     "data": {
      "text/plain": [
       "0.04256 with absolute error < 4.7e-16"
      ]
     },
     "metadata": {},
     "output_type": "display_data"
    }
   ],
   "source": [
    "#1.\n",
    "\n",
    "alpha <- 6 #6x Kopf\n",
    "beta <- 1 # 1x Zahl\n",
    "minimum <- 0.4\n",
    "maximum <- 0.6\n",
    "\n",
    "integrate(function (p) dbeta(p, alpha, beta), minimum, maximum)\n",
    "# Münzwurf ist zu 4,2% fair, also sehr unfair"
   ]
  },
  {
   "cell_type": "code",
   "execution_count": 63,
   "metadata": {},
   "outputs": [
    {
     "data": {
      "text/plain": [
       "0.9527469 with absolute error < 1.5e-11"
      ]
     },
     "metadata": {},
     "output_type": "display_data"
    }
   ],
   "source": [
    "#2.\n",
    "\n",
    "alpha <- 6 #6x Kopf\n",
    "beta <- 1 # 1x Zahl\n",
    "\n",
    "#faire Priors, die auf 95%-ige Fairness der Münze hinweisen\n",
    "alpha_prior = 55\n",
    "beta_prior = 55\n",
    "minimum <- 0.4\n",
    "maximum <- 0.6\n",
    "\n",
    "integrate(function (p) dbeta(p, alpha + alpha_prior, beta + beta_prior), minimum, maximum)\n",
    "# Münzwurf ist zu 95,2% fair, also fair"
   ]
  },
  {
   "cell_type": "code",
   "execution_count": 73,
   "metadata": {},
   "outputs": [
    {
     "data": {
      "text/plain": [
       "0.4954059 with absolute error < 5.2e-11"
      ]
     },
     "metadata": {},
     "output_type": "display_data"
    }
   ],
   "source": [
    "#3.\n",
    "\n",
    "alpha <- 6 #6x Kopf\n",
    "beta <- 1 # 1x Zahl\n",
    "\n",
    "#faire Priors, die auf 95%-ige Fairness der Münze hinweisen\n",
    "alpha_prior = 55\n",
    "beta_prior = 55\n",
    "minimum <- 0.4\n",
    "maximum <- 0.6\n",
    "\n",
    "# 23 zusätzliche Kopfwürfe, die W. für faire Münzwürfe fallen unter 50%\n",
    "integrate(function (p) dbeta(p, alpha + alpha_prior + 23, beta + beta_prior), minimum, maximum)"
   ]
  },
  {
   "cell_type": "markdown",
   "metadata": {},
   "source": [
    "Ü. 12"
   ]
  },
  {
   "cell_type": "code",
   "execution_count": 4,
   "metadata": {},
   "outputs": [
    {
     "data": {
      "text/plain": [
       "0.05425369 with absolute error < 3.5e-05"
      ]
     },
     "metadata": {},
     "output_type": "display_data"
    }
   ],
   "source": [
    "# Integral der Verteilung zw. 0 und 18 mit mu und sigma\n",
    "integrate(function(x) dnorm(x, mean=20.6, sd=1.62), 0, 18)\n",
    "# mit W. von 5%, dass Wert zw. 0 und 18 liegt"
   ]
  },
  {
   "cell_type": "code",
   "execution_count": 8,
   "metadata": {},
   "outputs": [
    {
     "data": {
      "text/plain": [
       "2.880771e-07 with absolute error < 5.6e-07"
      ]
     },
     "metadata": {},
     "output_type": "display_data"
    }
   ],
   "source": [
    "# Ü. 1\n",
    "# Verteilung mit mu und sigma zw, irgendwas und 100, mu = 1, sigma = 1\n",
    "# W. dass Wert 5x sigma über dem mu und unter 100 liegt?\n",
    "integrate(function(x) dnorm(x, mean=1, sd=1), 6, 100)"
   ]
  },
  {
   "cell_type": "code",
   "execution_count": 9,
   "metadata": {},
   "outputs": [],
   "source": [
    "# Ü. 2\n",
    "temp_data <- c(100.0, 99.8, 101.0, 100.5, 99.7)"
   ]
  },
  {
   "cell_type": "code",
   "execution_count": 19,
   "metadata": {},
   "outputs": [],
   "source": [
    "temp_mean = mean(temp_data)\n",
    "temp_sd = sd(temp_data)"
   ]
  },
  {
   "cell_type": "code",
   "execution_count": 27,
   "metadata": {},
   "outputs": [
    {
     "data": {
      "text/plain": [
       "0.3563509 with absolute error < 1.4e-06"
      ]
     },
     "metadata": {},
     "output_type": "display_data"
    }
   ],
   "source": [
    "integrate(function(x) dnorm(x, mean=temp_mean, sd=temp_sd), 100.4, 110)"
   ]
  },
  {
   "cell_type": "code",
   "execution_count": 32,
   "metadata": {},
   "outputs": [],
   "source": [
    "# Ü. 3\n",
    "\n",
    "times <- c(2.5,3,3.5,4.2)\n",
    "times_mean <- mean(times)\n",
    "times_sd <- sd(times)\n",
    "distances <- 1/2 * 9.8 * times^2"
   ]
  },
  {
   "cell_type": "code",
   "execution_count": 42,
   "metadata": {},
   "outputs": [
    {
     "data": {
      "text/plain": [
       "3.610091e-21 with absolute error < 7.1e-21"
      ]
     },
     "metadata": {},
     "output_type": "display_data"
    }
   ],
   "source": [
    "# damit Distanz über 500m ist, brauchen wir t für diese Strecke:\n",
    "# 1/2 * 9.8 * t^2 = 500 -> \n",
    "t = 10.1015\n",
    "\n",
    "# W. dafür, dass t zwischen 10.1015 und großer Zahl liegt\n",
    "integrate(function(x) dnorm(x, mean=times_mean, sd=times_sd), t, 60)"
   ]
  },
  {
   "cell_type": "code",
   "execution_count": 53,
   "metadata": {},
   "outputs": [
    {
     "data": {
      "image/png": "[encoded data removed]",
      "text/plain": [
       "Plot with title \"PDF Beta(300,39700)\""
      ]
     },
     "metadata": {},
     "output_type": "display_data"
    }
   ],
   "source": [
    "xs <- seq(0.005,0.01,by=0.00001)\n",
    "xs.all <- seq(0,1,by=0.0001)\n",
    "plot(xs,dbeta(xs,300,40000-300),type='l',lwd=3,\n",
    "     ylab=\"density\",\n",
    "     xlab=\"probability of subscription\",\n",
    "     main=\"PDF Beta(300,39700)\")"
   ]
  },
  {
   "cell_type": "code",
   "execution_count": 49,
   "metadata": {},
   "outputs": [
    {
     "data": {
      "text/html": [
       "0.00797868617075541"
      ],
      "text/latex": [
       "0.00797868617075541"
      ],
      "text/markdown": [
       "0.00797868617075541"
      ],
      "text/plain": [
       "[1] 0.007978686"
      ]
     },
     "metadata": {},
     "output_type": "display_data"
    }
   ],
   "source": [
    "# W., dass Wert unter 0.0065 liegt\n",
    "pbeta(0.0065,300,39700)"
   ]
  },
  {
   "cell_type": "code",
   "execution_count": 50,
   "metadata": {},
   "outputs": [
    {
     "data": {
      "text/html": [
       "0.0124815103010366"
      ],
      "text/latex": [
       "0.0124815103010366"
      ],
      "text/markdown": [
       "0.0124815103010366"
      ],
      "text/plain": [
       "[1] 0.01248151"
      ]
     },
     "metadata": {},
     "output_type": "display_data"
    }
   ],
   "source": [
    "# W., dass Wert zwischen 0.0085 und 1 liegt\n",
    "pbeta(1,300,39700) - pbeta(0.0085,300,39700)"
   ]
  },
  {
   "cell_type": "code",
   "execution_count": 51,
   "metadata": {},
   "outputs": [
    {
     "data": {
      "text/html": [
       "0.00890346211942539"
      ],
      "text/latex": [
       "0.00890346211942539"
      ],
      "text/markdown": [
       "0.00890346211942539"
      ],
      "text/plain": [
       "[1] 0.008903462"
      ]
     },
     "metadata": {},
     "output_type": "display_data"
    }
   ],
   "source": [
    "# Quantile\n",
    "# W. von 99.9%, dass Wert unter 0.0089 liegt\n",
    "qbeta(0.999, 300, 39700)"
   ]
  },
  {
   "cell_type": "markdown",
   "metadata": {},
   "source": [
    "Kapitel 13"
   ]
  },
  {
   "cell_type": "code",
   "execution_count": 54,
   "metadata": {},
   "outputs": [
    {
     "data": {
      "image/png": "[encoded data removed]",
      "text/plain": [
       "Plot with title \"CDF Beta(300,39700)\""
      ]
     },
     "metadata": {},
     "output_type": "display_data"
    }
   ],
   "source": [
    "# Ü.1\n",
    "# CDF statt PDF mit pbeta statt dbeta\n",
    "xs <- seq(0.005,0.01,by=0.00001)\n",
    "xs.all <- seq(0,1,by=0.0001)\n",
    "plot(xs,pbeta(xs,300,40000-300),type='l',lwd=3,\n",
    "     ylab=\"density\",\n",
    "     xlab=\"probability of subscription\",\n",
    "     main=\"CDF Beta(300,39700)\")"
   ]
  },
  {
   "cell_type": "code",
   "execution_count": 61,
   "metadata": {},
   "outputs": [
    {
     "data": {
      "image/png": "[encoded data removed]",
      "text/plain": [
       "Plot with title \"Quantile of Beta(300,39700)\""
      ]
     },
     "metadata": {},
     "output_type": "display_data"
    }
   ],
   "source": [
    "# Quantile\n",
    "xs <- seq(0.001,0.99,by=0.001)\n",
    "plot(xs,qbeta(xs,300,40000-300),type='l',lwd=3,\n",
    "     ylab=\"density\",\n",
    "     xlab=\"Quantiles\",\n",
    "     main=\"Quantile of Beta(300,39700)\")"
   ]
  },
  {
   "cell_type": "code",
   "execution_count": 62,
   "metadata": {},
   "outputs": [],
   "source": [
    "#Ü.2\n",
    "snow <- c(7.8, 9.4, 10.0, 7.9, 9.4, 7.0, 7.0, 7.1, 8.9, 7.4)\n",
    "snow_mean <- mean(snow)\n",
    "snow_sd <- sd(snow)\n",
    "snow_mean\n",
    "snow_sd"
   ]
  },
  {
   "cell_type": "code",
   "execution_count": 65,
   "metadata": {},
   "outputs": [
    {
     "data": {
      "text/html": [
       "4.45606159141717"
      ],
      "text/latex": [
       "4.45606159141717"
      ],
      "text/markdown": [
       "4.45606159141717"
      ],
      "text/plain": [
       "[1] 4.456062"
      ]
     },
     "metadata": {},
     "output_type": "display_data"
    },
    {
     "data": {
      "text/html": [
       "11.9239384085829"
      ],
      "text/latex": [
       "11.9239384085829"
      ],
      "text/markdown": [
       "11.9239384085829"
      ],
      "text/plain": [
       "[1] 11.92394"
      ]
     },
     "metadata": {},
     "output_type": "display_data"
    }
   ],
   "source": [
    "# Quantile bei nicht-binärer Verteilung:\n",
    "# hier: Confidence Interval von 99.9&\n",
    "qnorm(0.0005, mean=snow_mean, sd=snow_sd)\n",
    "qnorm(0.9995, mean=snow_mean, sd=snow_sd)\n",
    "\n",
    "# Sehr wahrscheinlich, dass Schneefal zw 4.45 11.92m liegt"
   ]
  },
  {
   "cell_type": "code",
   "execution_count": 68,
   "metadata": {},
   "outputs": [
    {
     "data": {
      "text/html": [
       "0.179383649235112"
      ],
      "text/latex": [
       "0.179383649235112"
      ],
      "text/markdown": [
       "0.179383649235112"
      ],
      "text/plain": [
       "[1] 0.1793836"
      ]
     },
     "metadata": {},
     "output_type": "display_data"
    },
    {
     "data": {
      "text/html": [
       "0.50832335380999"
      ],
      "text/latex": [
       "0.50832335380999"
      ],
      "text/markdown": [
       "0.50832335380999"
      ],
      "text/plain": [
       "[1] 0.5083234"
      ]
     },
     "metadata": {},
     "output_type": "display_data"
    }
   ],
   "source": [
    "#Ü.3\n",
    "# Quantile\n",
    "# Betaverteilung, weil verkauft vs nicht-verkauft\n",
    "# 95% Confidence Interval = 0.025 und 0.975 als Grenzen\n",
    "qbeta(0.025, 10, 20) # untere Grenze: mind 18%\n",
    "qbeta(0.975, 10, 20) # obere Grenze: maximal 51%\n",
    "\n",
    "# -> 40 weitere Häuser = 40 * 18% = 7.2 bzw. 40 * 51% = 20.4 Schokoriegel"
   ]
  },
  {
   "cell_type": "markdown",
   "metadata": {},
   "source": [
    "Kapitel 14"
   ]
  },
  {
   "cell_type": "code",
   "execution_count": 111,
   "metadata": {},
   "outputs": [
    {
     "data": {
      "image/png": "[encoded data removed]",
      "text/plain": [
       "Plot with title \"PDF Beta(2,3)\""
      ]
     },
     "metadata": {},
     "output_type": "display_data"
    }
   ],
   "source": [
    "#AB TEST\n",
    "options(repr.plot.width=4, repr.plot.height=3)\n",
    "\n",
    "xs <- seq(0,1,by=0.0001)\n",
    "plot(xs,dbeta(xs,2,3),type='l',lwd=3,\n",
    "     ylab=\"density\",\n",
    "     xlab=\"probability of clickthrough\",\n",
    "     main=\"PDF Beta(2,3)\")"
   ]
  },
  {
   "cell_type": "code",
   "execution_count": 84,
   "metadata": {},
   "outputs": [
    {
     "data": {
      "image/png": "[encoded data removed]",
      "text/plain": [
       "Plot with title \"CDF Beta(2,3)\""
      ]
     },
     "metadata": {},
     "output_type": "display_data"
    }
   ],
   "source": [
    "# CDF\n",
    "xs <- seq(0,1,by=0.0001)\n",
    "plot(xs,pbeta(xs,2,3),type='l',lwd=3,\n",
    "     ylab=\"density\",\n",
    "     xlab=\"probability of clickthrough\",\n",
    "     main=\"CDF Beta(2,3)\")"
   ]
  },
  {
   "cell_type": "code",
   "execution_count": 73,
   "metadata": {},
   "outputs": [
    {
     "data": {
      "text/html": [
       "0.067585986488543"
      ],
      "text/latex": [
       "0.067585986488543"
      ],
      "text/markdown": [
       "0.067585986488543"
      ],
      "text/plain": [
       "[1] 0.06758599"
      ]
     },
     "metadata": {},
     "output_type": "display_data"
    },
    {
     "data": {
      "text/html": [
       "0.805879550316757"
      ],
      "text/latex": [
       "0.805879550316757"
      ],
      "text/markdown": [
       "0.805879550316757"
      ],
      "text/plain": [
       "[1] 0.8058796"
      ]
     },
     "metadata": {},
     "output_type": "display_data"
    }
   ],
   "source": [
    "# 95% confidence interval\n",
    "qbeta(0.025, 2, 3) # untere Grenze: mind\n",
    "qbeta(0.975, 2, 3) # obere Grenze: maximal\n",
    "# 95% sicher, dass True Conversion Rate zwischen 6 und 80% liegt, also nicht hilfreich"
   ]
  },
  {
   "cell_type": "code",
   "execution_count": 82,
   "metadata": {},
   "outputs": [
    {
     "data": {
      "text/html": [
       "0.024390243902439"
      ],
      "text/latex": [
       "0.024390243902439"
      ],
      "text/markdown": [
       "0.024390243902439"
      ],
      "text/plain": [
       "[1] 0.02439024"
      ]
     },
     "metadata": {},
     "output_type": "display_data"
    }
   ],
   "source": [
    "# Prior überlegen: Provider sagt 2.4%\n",
    "# benötigen BetaVerteilung mit Mean von 2.4% bzw. 0.024\n",
    "# Austesten mit versch. Werten:\n",
    "alpha <- 1\n",
    "beta <- 40\n",
    "mean <- alpha / (alpha + beta)\n",
    "mean\n",
    "# passende Betaverteilung (beta(1, 40)) für die Priors von 2.4%"
   ]
  },
  {
   "cell_type": "markdown",
   "metadata": {},
   "source": [
    "Beta (α posterior, β posterior ) = Beta (α prior + α likelihood, β prior + β likelihood )"
   ]
  },
  {
   "cell_type": "code",
   "execution_count": 89,
   "metadata": {},
   "outputs": [
    {
     "data": {
      "image/png": "[encoded data removed]",
      "text/plain": [
       "Plot with title \"PDF Beta(2+1,3+40)\""
      ]
     },
     "metadata": {},
     "output_type": "display_data"
    }
   ],
   "source": [
    "xs <- seq(0,1,by=0.0001)\n",
    "\n",
    "alpha <- 2 + 1\n",
    "beta <- 3 + 40\n",
    "\n",
    "plot(xs,dbeta(xs,alpha,beta),type='l',lwd=3,\n",
    "     ylab=\"density\",\n",
    "     xlab=\"probability of clickthrough\",\n",
    "     main=\"PDF Beta(2+1,3+40)\")"
   ]
  },
  {
   "cell_type": "code",
   "execution_count": 97,
   "metadata": {},
   "outputs": [
    {
     "data": {
      "image/png": "[encoded data removed]",
      "text/plain": [
       "Plot with title \"PDF Beta(25+1,75+40)\""
      ]
     },
     "metadata": {},
     "output_type": "display_data"
    }
   ],
   "source": [
    "# neue Daten kommen rein: statt 2,3 nun 25,75\n",
    "xs <- seq(0,1,by=0.0001)\n",
    "\n",
    "alpha <- 25 + 1\n",
    "beta <- 75 + 40\n",
    "\n",
    "plot(xs,dbeta(xs,alpha,beta),type='l',lwd=3,\n",
    "     ylab=\"density\",\n",
    "     xlab=\"probability of clickthrough\",\n",
    "     main=\"PDF Beta(25+1,75+40)\")"
   ]
  },
  {
   "cell_type": "code",
   "execution_count": 116,
   "metadata": {},
   "outputs": [
    {
     "data": {
      "image/png": "[encoded data removed]",
      "text/plain": [
       "Plot with title \"PDF Beta)\""
      ]
     },
     "metadata": {},
     "output_type": "display_data"
    },
    {
     "data": {
      "image/png": "[encoded data removed]",
      "text/plain": [
       "Plot with title \"PDF Beta\""
      ]
     },
     "metadata": {},
     "output_type": "display_data"
    },
    {
     "data": {
      "image/png": "[encoded data removed]",
      "text/plain": [
       "Plot with title \"PDF Beta\""
      ]
     },
     "metadata": {},
     "output_type": "display_data"
    }
   ],
   "source": [
    "#Ü.1\n",
    "#1.\n",
    "# weak Belief:\n",
    "# W. für Kopf ist 0.7\n",
    "# W. für Zahl ist 0.3\n",
    "xs <- seq(0,1,by=0.0001)\n",
    "\n",
    "alpha <- 7\n",
    "beta <- 3\n",
    "\n",
    "plot(xs,dbeta(xs,alpha,beta),type='l',lwd=3,\n",
    "     ylab=\"density\",\n",
    "     xlab=\"probability\",\n",
    "     main=\"PDF Beta)\")\n",
    "\n",
    "#2.\n",
    "# very strong Belief:\n",
    "# W. für Kopf ist 0.5\n",
    "# W. für Zahl ist 0.5\n",
    "xs <- seq(0,1,by=0.0001)\n",
    "\n",
    "alpha <- 5000\n",
    "beta <- 5000\n",
    "\n",
    "plot(xs,dbeta(xs,alpha,beta),type='l',lwd=3,\n",
    "     ylab=\"density\",\n",
    "     xlab=\"probability\",\n",
    "     main=\"PDF Beta\")\n",
    "\n",
    "#3.\n",
    "# strong Belief:\n",
    "# W. für Kopf ist 0.7\n",
    "# W. für Zahl ist 0.3\n",
    "xs <- seq(0,1,by=0.0001)\n",
    "\n",
    "alpha <- 70\n",
    "beta <- 30\n",
    "\n",
    "plot(xs,dbeta(xs,alpha,beta),type='l',lwd=3,\n",
    "     ylab=\"density\",\n",
    "     xlab=\"probability\",\n",
    "     main=\"PDF Beta\")"
   ]
  },
  {
   "cell_type": "code",
   "execution_count": 117,
   "metadata": {},
   "outputs": [
    {
     "data": {
      "text/html": [
       "0.445047823370689"
      ],
      "text/latex": [
       "0.445047823370689"
      ],
      "text/markdown": [
       "0.445047823370689"
      ],
      "text/plain": [
       "[1] 0.4450478"
      ]
     },
     "metadata": {},
     "output_type": "display_data"
    },
    {
     "data": {
      "text/html": [
       "0.736832005311338"
      ],
      "text/latex": [
       "0.736832005311338"
      ],
      "text/markdown": [
       "0.736832005311338"
      ],
      "text/plain": [
       "[1] 0.736832"
      ]
     },
     "metadata": {},
     "output_type": "display_data"
    },
    {
     "data": {
      "image/png": "[encoded data removed]",
      "text/plain": [
       "Plot with title \"PDF Beta\""
      ]
     },
     "metadata": {},
     "output_type": "display_data"
    },
    {
     "data": {
      "text/html": [
       "0.490415840248611"
      ],
      "text/latex": [
       "0.490415840248611"
      ],
      "text/markdown": [
       "0.490415840248611"
      ],
      "text/plain": [
       "[1] 0.4904158"
      ]
     },
     "metadata": {},
     "output_type": "display_data"
    },
    {
     "data": {
      "text/html": [
       "0.509982808544273"
      ],
      "text/latex": [
       "0.509982808544273"
      ],
      "text/markdown": [
       "0.509982808544273"
      ],
      "text/plain": [
       "[1] 0.5099828"
      ]
     },
     "metadata": {},
     "output_type": "display_data"
    },
    {
     "data": {
      "image/png": "[encoded data removed]",
      "text/plain": [
       "Plot with title \"PDF Beta\""
      ]
     },
     "metadata": {},
     "output_type": "display_data"
    },
    {
     "data": {
      "text/html": [
       "0.584315265832692"
      ],
      "text/latex": [
       "0.584315265832692"
      ],
      "text/markdown": [
       "0.584315265832692"
      ],
      "text/plain": [
       "[1] 0.5843153"
      ]
     },
     "metadata": {},
     "output_type": "display_data"
    },
    {
     "data": {
      "text/html": [
       "0.744233911241574"
      ],
      "text/latex": [
       "0.744233911241574"
      ],
      "text/markdown": [
       "0.744233911241574"
      ],
      "text/plain": [
       "[1] 0.7442339"
      ]
     },
     "metadata": {},
     "output_type": "display_data"
    },
    {
     "data": {
      "image/png": "[encoded data removed]",
      "text/plain": [
       "Plot with title \"PDF Beta\""
      ]
     },
     "metadata": {},
     "output_type": "display_data"
    }
   ],
   "source": [
    "#Ü.1\n",
    "#2. MORE DATAAAA\n",
    "# weak Belief:\n",
    "# W. für Kopf ist 0.7\n",
    "# W. für Zahl ist 0.3\n",
    "xs <- seq(0,1,by=0.0001)\n",
    "\n",
    "alpha <- 7\n",
    "beta <- 3\n",
    "\n",
    "plot(xs,dbeta(xs,9+alpha+9,3+beta+11),type='l',lwd=3,\n",
    "     ylab=\"density\",\n",
    "     xlab=\"probability\",\n",
    "     main=\"PDF Beta\")\n",
    "\n",
    "# 95% confidence interval\n",
    "qbeta(0.025, 9+alpha+9, 3+beta+11) # untere Grenze: mind\n",
    "qbeta(0.975, 9+alpha+9, 3+beta+11) # obere Grenze: maximal\n",
    "\n",
    "#2.\n",
    "# very strong Belief:\n",
    "# W. für Kopf ist 0.5\n",
    "# W. für Zahl ist 0.5\n",
    "xs <- seq(0,1,by=0.0001)\n",
    "\n",
    "alpha <- 5000\n",
    "beta <- 5000\n",
    "\n",
    "plot(xs,dbeta(xs,9+alpha+9,3+beta+11),type='l',lwd=3,\n",
    "     ylab=\"density\",\n",
    "     xlab=\"probability\",\n",
    "     main=\"PDF Beta\")\n",
    "\n",
    "# 95% confidence interval\n",
    "qbeta(0.025, 9+alpha+9, 3+beta+11) # untere Grenze: mind\n",
    "qbeta(0.975, 9+alpha+9, 3+beta+11) # obere Grenze: maximal\n",
    "\n",
    "#3.\n",
    "# strong Belief:\n",
    "# W. für Kopf ist 0.7\n",
    "# W. für Zahl ist 0.3\n",
    "xs <- seq(0,1,by=0.0001)\n",
    "\n",
    "alpha <- 70\n",
    "beta <- 30\n",
    "\n",
    "plot(xs,dbeta(xs,9+alpha+9,3+beta+11),type='l',lwd=3,\n",
    "     ylab=\"density\",\n",
    "     xlab=\"probability\",\n",
    "     main=\"PDF Beta\")\n",
    "\n",
    "# 95% confidence interval\n",
    "qbeta(0.025, 9+alpha+9, 3+beta+11) # untere Grenze: mind\n",
    "qbeta(0.975, 9+alpha+9, 3+beta+11) # obere Grenze: maximal"
   ]
  },
  {
   "cell_type": "code",
   "execution_count": 118,
   "metadata": {},
   "outputs": [],
   "source": [
    "# -> Strong Belief zeigt am deutlichsten eine Richtung an, auch mit mehr Daten"
   ]
  },
  {
   "cell_type": "markdown",
   "metadata": {},
   "source": [
    "Kapitel 19"
   ]
  },
  {
   "cell_type": "code",
   "execution_count": 1,
   "metadata": {},
   "outputs": [],
   "source": [
    "# Test für jede Hypothese für Bayes FActor von $hypothese bei W. von 50% bei Beobachtung von 24 Erfolgen aus 100 Versuchen\n",
    "dx <- 0.01\n",
    "hypotheses <- seq(0,1,by=dx)\n",
    "\n",
    "# Test, wie sehr die einzelnen Hypothesen (0.01 - 0.49) gegen W. von 0.5 wahrscheinlich sind\n",
    "bayes.factor <- function(h_top,h_bottom){\n",
    "  ((h_top)^24*(1-h_top)^76)/((h_bottom)^24*(1-h_bottom)^76)\n",
    "}"
   ]
  },
  {
   "cell_type": "code",
   "execution_count": 2,
   "metadata": {},
   "outputs": [],
   "source": [
    "bfs <- bayes.factor(hypotheses,0.5)"
   ]
  },
  {
   "cell_type": "code",
   "execution_count": 4,
   "metadata": {},
   "outputs": [
    {
     "data": {
      "image/png": "[encoded data removed]",
      "text/plain": [
       "plot without title"
      ]
     },
     "metadata": {},
     "output_type": "display_data"
    }
   ],
   "source": [
    "options(repr.plot.width=4, repr.plot.height=3)\n",
    "\n",
    "plot(hypotheses,bfs, type='l')"
   ]
  },
  {
   "cell_type": "code",
   "execution_count": 5,
   "metadata": {},
   "outputs": [
    {
     "data": {
      "text/html": [
       "1478775.95675986"
      ],
      "text/latex": [
       "1478775.95675986"
      ],
      "text/markdown": [
       "1478775.95675986"
      ],
      "text/plain": [
       "[1] 1478776"
      ]
     },
     "metadata": {},
     "output_type": "display_data"
    }
   ],
   "source": [
    "max(bfs) # größter Bayes Factor"
   ]
  },
  {
   "cell_type": "code",
   "execution_count": 6,
   "metadata": {},
   "outputs": [
    {
     "data": {
      "text/html": [
       "0.24"
      ],
      "text/latex": [
       "0.24"
      ],
      "text/markdown": [
       "0.24"
      ],
      "text/plain": [
       "[1] 0.24"
      ]
     },
     "metadata": {},
     "output_type": "display_data"
    }
   ],
   "source": [
    "hypotheses[which.max(bfs)] # größter Bayes Factor bei Hypothese mit 0.24 = 24% W."
   ]
  },
  {
   "cell_type": "code",
   "execution_count": 9,
   "metadata": {},
   "outputs": [
    {
     "data": {
      "image/png": "[encoded data removed]",
      "text/plain": [
       "plot without title"
      ]
     },
     "metadata": {},
     "output_type": "display_data"
    }
   ],
   "source": [
    "# Prior mit W. von 0 in Bereich von 20 und 30% mit Odds von 1 zu 1000 (geringe W.)\n",
    "priors <- ifelse(hypotheses >= 0.2 & hypotheses <= 0.3, 1/1000,1)\n",
    "plot(hypotheses,priors,type='l')"
   ]
  },
  {
   "cell_type": "code",
   "execution_count": 10,
   "metadata": {},
   "outputs": [
    {
     "data": {
      "image/png": "[encoded data removed]",
      "text/plain": [
       "plot without title"
      ]
     },
     "metadata": {},
     "output_type": "display_data"
    }
   ],
   "source": [
    "# und die zugehörige Verteilung der Posteriors\n",
    "posteriors  <- priors*bfs\n",
    "plot(hypotheses,posteriors,type='l')"
   ]
  },
  {
   "cell_type": "code",
   "execution_count": 11,
   "metadata": {},
   "outputs": [
    {
     "data": {
      "text/html": [
       "1"
      ],
      "text/latex": [
       "1"
      ],
      "text/markdown": [
       "1"
      ],
      "text/plain": [
       "[1] 1"
      ]
     },
     "metadata": {},
     "output_type": "display_data"
    }
   ],
   "source": [
    "# Normalisieren, damit wir korrekte W. erhalten\n",
    "normalized.posteriors <- posteriors/sum(posteriors)\n",
    "# muss 100% sein ( = 1)\n",
    "sum(normalized.posteriors)"
   ]
  },
  {
   "cell_type": "code",
   "execution_count": 12,
   "metadata": {},
   "outputs": [
    {
     "data": {
      "image/png": "[encoded data removed]",
      "text/plain": [
       "plot without title"
      ]
     },
     "metadata": {},
     "output_type": "display_data"
    }
   ],
   "source": [
    "plot(hypotheses,normalized.posteriors,type='l') "
   ]
  },
  {
   "cell_type": "code",
   "execution_count": null,
   "metadata": {},
   "outputs": [],
   "source": [
    "# W., dass True Probability unter 0.5 liegt\n",
    "sum(normalized.posteriors[which(hypotheses < 0.5)])\n",
    "\n",
    "# Welche Hypothese hat höchste W. (in normalisierten Posteriors)?\n",
    "hypotheses[which.max(normalized.posteriors)]\n",
    "\n",
    "\n",
    "# Ü.1: Priors mit 0.24 statt 0.5\n",
    "bf.v1 <- bayes.factor(hypotheses,0.5)\n",
    "bf.v2 <- bayes.factor(hypotheses,0.24)\n",
    "plot(hypotheses, bf.v1, type=\"l\")\n",
    "plot(hypotheses, bf.v2, type=\"l\")\n",
    "\n",
    "#neue Posteriors mit 0.24 Priors\n",
    "posteriors <- priors*bf.v2\n",
    "plot(hypotheses, posteriors, type=\"l\")\n",
    "\n",
    "# Normalisieren der Posteriors\n",
    "normalized.posteriors <- posteriors/sum(posteriors)\n",
    "\n",
    "plot(hypotheses, normalized.posteriors, type=\"l\")\n",
    "\n",
    "# Und beide zusammen plotten, 1 als Linie, 1 als Punkte (beide identisch)\n",
    "plot(hypotheses,bf.v1/sum(bf.v1),type='l')\n",
    "points(hypotheses,bf.v2/sum(bf.v2))\n",
    "# Alternative Priors verändern das Ergebnis in dem Fall nicht"
   ]
  }
 ],
 "metadata": {
  "kernelspec": {
   "display_name": "R",
   "language": "R",
   "name": "ir"
  },
  "language_info": {
   "codemirror_mode": "r",
   "file_extension": ".r",
   "mimetype": "text/x-r-source",
   "name": "R",
   "pygments_lexer": "r",
   "version": "3.6.1"
  }
 },
 "nbformat": 4,
 "nbformat_minor": 4
}
